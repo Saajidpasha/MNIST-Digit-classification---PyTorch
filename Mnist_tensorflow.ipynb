{
  "nbformat": 4,
  "nbformat_minor": 0,
  "metadata": {
    "colab": {
      "name": "Untitled15.ipynb",
      "provenance": [],
      "toc_visible": true,
      "authorship_tag": "ABX9TyPR2aRXUB3CSGBlDdNCTntA",
      "include_colab_link": true
    },
    "kernelspec": {
      "name": "python3",
      "display_name": "Python 3"
    },
    "accelerator": "GPU"
  },
  "cells": [
    {
      "cell_type": "markdown",
      "metadata": {
        "id": "view-in-github",
        "colab_type": "text"
      },
      "source": [
        "<a href=\"https://colab.research.google.com/github/Saajidpasha/MNIST-Digit-classification---PyTorch/blob/master/Mnist_tensorflow.ipynb\" target=\"_parent\"><img src=\"https://colab.research.google.com/assets/colab-badge.svg\" alt=\"Open In Colab\"/></a>"
      ]
    },
    {
      "cell_type": "code",
      "metadata": {
        "id": "H4JvVkIcmkc2",
        "colab_type": "code",
        "outputId": "d830489c-69fe-45a3-def3-4429f42b61ec",
        "colab": {
          "base_uri": "https://localhost:8080/",
          "height": 496
        }
      },
      "source": [
        "!pip install tensorflow-gpu==2.0.0.alpha0"
      ],
      "execution_count": 0,
      "outputs": [
        {
          "output_type": "stream",
          "text": [
            "Collecting tensorflow-gpu==2.0.0.alpha0\n",
            "\u001b[?25l  Downloading https://files.pythonhosted.org/packages/1a/66/32cffad095253219d53f6b6c2a436637bbe45ac4e7be0244557210dc3918/tensorflow_gpu-2.0.0a0-cp36-cp36m-manylinux1_x86_64.whl (332.1MB)\n",
            "\u001b[K     |████████████████████████████████| 332.1MB 30kB/s \n",
            "\u001b[?25hCollecting tb-nightly<1.14.0a20190302,>=1.14.0a20190301\n",
            "\u001b[?25l  Downloading https://files.pythonhosted.org/packages/a9/51/aa1d756644bf4624c03844115e4ac4058eff77acd786b26315f051a4b195/tb_nightly-1.14.0a20190301-py3-none-any.whl (3.0MB)\n",
            "\u001b[K     |████████████████████████████████| 3.0MB 56.5MB/s \n",
            "\u001b[?25hRequirement already satisfied: termcolor>=1.1.0 in /usr/local/lib/python3.6/dist-packages (from tensorflow-gpu==2.0.0.alpha0) (1.1.0)\n",
            "Requirement already satisfied: absl-py>=0.7.0 in /usr/local/lib/python3.6/dist-packages (from tensorflow-gpu==2.0.0.alpha0) (0.9.0)\n",
            "Requirement already satisfied: google-pasta>=0.1.2 in /usr/local/lib/python3.6/dist-packages (from tensorflow-gpu==2.0.0.alpha0) (0.2.0)\n",
            "Collecting tf-estimator-nightly<1.14.0.dev2019030116,>=1.14.0.dev2019030115\n",
            "\u001b[?25l  Downloading https://files.pythonhosted.org/packages/13/82/f16063b4eed210dc2ab057930ac1da4fbe1e91b7b051a6c8370b401e6ae7/tf_estimator_nightly-1.14.0.dev2019030115-py2.py3-none-any.whl (411kB)\n",
            "\u001b[K     |████████████████████████████████| 419kB 62.8MB/s \n",
            "\u001b[?25hRequirement already satisfied: keras-preprocessing>=1.0.5 in /usr/local/lib/python3.6/dist-packages (from tensorflow-gpu==2.0.0.alpha0) (1.1.0)\n",
            "Requirement already satisfied: keras-applications>=1.0.6 in /usr/local/lib/python3.6/dist-packages (from tensorflow-gpu==2.0.0.alpha0) (1.0.8)\n",
            "Requirement already satisfied: numpy<2.0,>=1.14.5 in /usr/local/lib/python3.6/dist-packages (from tensorflow-gpu==2.0.0.alpha0) (1.18.2)\n",
            "Requirement already satisfied: grpcio>=1.8.6 in /usr/local/lib/python3.6/dist-packages (from tensorflow-gpu==2.0.0.alpha0) (1.24.3)\n",
            "Requirement already satisfied: six>=1.10.0 in /usr/local/lib/python3.6/dist-packages (from tensorflow-gpu==2.0.0.alpha0) (1.12.0)\n",
            "Requirement already satisfied: wheel>=0.26 in /usr/local/lib/python3.6/dist-packages (from tensorflow-gpu==2.0.0.alpha0) (0.34.2)\n",
            "Requirement already satisfied: protobuf>=3.6.1 in /usr/local/lib/python3.6/dist-packages (from tensorflow-gpu==2.0.0.alpha0) (3.10.0)\n",
            "Requirement already satisfied: astor>=0.6.0 in /usr/local/lib/python3.6/dist-packages (from tensorflow-gpu==2.0.0.alpha0) (0.8.1)\n",
            "Requirement already satisfied: gast>=0.2.0 in /usr/local/lib/python3.6/dist-packages (from tensorflow-gpu==2.0.0.alpha0) (0.2.2)\n",
            "Requirement already satisfied: werkzeug>=0.11.15 in /usr/local/lib/python3.6/dist-packages (from tb-nightly<1.14.0a20190302,>=1.14.0a20190301->tensorflow-gpu==2.0.0.alpha0) (1.0.0)\n",
            "Requirement already satisfied: markdown>=2.6.8 in /usr/local/lib/python3.6/dist-packages (from tb-nightly<1.14.0a20190302,>=1.14.0a20190301->tensorflow-gpu==2.0.0.alpha0) (3.2.1)\n",
            "Requirement already satisfied: h5py in /usr/local/lib/python3.6/dist-packages (from keras-applications>=1.0.6->tensorflow-gpu==2.0.0.alpha0) (2.8.0)\n",
            "Requirement already satisfied: setuptools in /usr/local/lib/python3.6/dist-packages (from protobuf>=3.6.1->tensorflow-gpu==2.0.0.alpha0) (46.0.0)\n",
            "Installing collected packages: tb-nightly, tf-estimator-nightly, tensorflow-gpu\n",
            "Successfully installed tb-nightly-1.14.0a20190301 tensorflow-gpu-2.0.0a0 tf-estimator-nightly-1.14.0.dev2019030115\n"
          ],
          "name": "stdout"
        }
      ]
    },
    {
      "cell_type": "markdown",
      "metadata": {
        "id": "5FinnBR1ntfI",
        "colab_type": "text"
      },
      "source": [
        "Import the libraries"
      ]
    },
    {
      "cell_type": "code",
      "metadata": {
        "id": "WnLCHEIfnaZq",
        "colab_type": "code",
        "colab": {}
      },
      "source": [
        "import tensorflow\n",
        "import numpy as np\n",
        "import datetime\n",
        "from tensorflow.keras.datasets import fashion_mnist"
      ],
      "execution_count": 0,
      "outputs": []
    },
    {
      "cell_type": "markdown",
      "metadata": {
        "id": "eImNalhunrtR",
        "colab_type": "text"
      },
      "source": [
        "Importing X and Y datasets"
      ]
    },
    {
      "cell_type": "code",
      "metadata": {
        "id": "JhFrK0Cdnacw",
        "colab_type": "code",
        "outputId": "5d45d43a-1cbc-449a-ff53-8d7e0f8d8b81",
        "colab": {
          "base_uri": "https://localhost:8080/",
          "height": 153
        }
      },
      "source": [
        "(X_train,Y_train),(X_test,Y_test) = fashion_mnist.load_data()"
      ],
      "execution_count": 0,
      "outputs": [
        {
          "output_type": "stream",
          "text": [
            "Downloading data from https://storage.googleapis.com/tensorflow/tf-keras-datasets/train-labels-idx1-ubyte.gz\n",
            "32768/29515 [=================================] - 0s 0us/step\n",
            "Downloading data from https://storage.googleapis.com/tensorflow/tf-keras-datasets/train-images-idx3-ubyte.gz\n",
            "26427392/26421880 [==============================] - 0s 0us/step\n",
            "Downloading data from https://storage.googleapis.com/tensorflow/tf-keras-datasets/t10k-labels-idx1-ubyte.gz\n",
            "8192/5148 [===============================================] - 0s 0us/step\n",
            "Downloading data from https://storage.googleapis.com/tensorflow/tf-keras-datasets/t10k-images-idx3-ubyte.gz\n",
            "4423680/4422102 [==============================] - 0s 0us/step\n"
          ],
          "name": "stdout"
        }
      ]
    },
    {
      "cell_type": "markdown",
      "metadata": {
        "id": "RafW1DXtoM_w",
        "colab_type": "text"
      },
      "source": [
        "Normalizing X and Y dataset images for easy calculations into range[0,1] "
      ]
    },
    {
      "cell_type": "code",
      "metadata": {
        "id": "Nr4TkP4NnagT",
        "colab_type": "code",
        "colab": {}
      },
      "source": [
        "X_train = X_train/255.0\n",
        "X_test = X_test/255.0"
      ],
      "execution_count": 0,
      "outputs": []
    },
    {
      "cell_type": "markdown",
      "metadata": {
        "id": "Q63kGakSojQy",
        "colab_type": "text"
      },
      "source": [
        "Reshaping the dataset into from two dimensions (28*28) One dimension(-1,784)\n",
        "_1 is used to represent when n.o of images is unknown "
      ]
    },
    {
      "cell_type": "code",
      "metadata": {
        "id": "AG6N55GGnaW-",
        "colab_type": "code",
        "colab": {}
      },
      "source": [
        "X_train = X_train.reshape(-1,28*28)\n",
        "X_test = X_test.reshape(-1,28*28)\n"
      ],
      "execution_count": 0,
      "outputs": []
    },
    {
      "cell_type": "markdown",
      "metadata": {
        "id": "ob0nUqtTpUMZ",
        "colab_type": "text"
      },
      "source": [
        "Shape of the x train"
      ]
    },
    {
      "cell_type": "code",
      "metadata": {
        "id": "Wv0n6AZTpUaZ",
        "colab_type": "code",
        "outputId": "3689edbc-1250-46d0-bae2-a648be98a17c",
        "colab": {
          "base_uri": "https://localhost:8080/",
          "height": 34
        }
      },
      "source": [
        "X_train.shape"
      ],
      "execution_count": 0,
      "outputs": [
        {
          "output_type": "execute_result",
          "data": {
            "text/plain": [
              "(60000, 784)"
            ]
          },
          "metadata": {
            "tags": []
          },
          "execution_count": 8
        }
      ]
    },
    {
      "cell_type": "markdown",
      "metadata": {
        "id": "zEa-SXMjpUn6",
        "colab_type": "text"
      },
      "source": [
        "Creating the model"
      ]
    },
    {
      "cell_type": "code",
      "metadata": {
        "id": "LnlvdNy7pU00",
        "colab_type": "code",
        "colab": {}
      },
      "source": [
        "import tensorflow as tf\n",
        "model = tf.keras.models.Sequential()"
      ],
      "execution_count": 0,
      "outputs": []
    },
    {
      "cell_type": "markdown",
      "metadata": {
        "id": "3C3UZEfip435",
        "colab_type": "text"
      },
      "source": [
        "Adding the dense layers"
      ]
    },
    {
      "cell_type": "code",
      "metadata": {
        "id": "VaelfLp-p9lr",
        "colab_type": "code",
        "outputId": "f46686bf-d017-452e-a824-dcec49d690a2",
        "colab": {
          "base_uri": "https://localhost:8080/",
          "height": 952
        }
      },
      "source": [
        "model.add(tf.keras.layers.Dense(units = 128,activation='relu',input_shape=(784,)))\n",
        "#adding the dropout\n",
        "model.add(tf.keras.layers.Dropout(0.2))\n",
        "#adding the second dense layer\n",
        "model.add(tf.keras.layers.Dense(units = 10,activation='softmax'))\n",
        "#compiling \n",
        "model.compile(optimizer='adam',loss='sparse_categorical_crossentropy',metrics=['sparse_categorical_accuracy'])\n",
        "model.summary()\n",
        "model.fit(X_train,Y_train,epochs=20)"
      ],
      "execution_count": 0,
      "outputs": [
        {
          "output_type": "stream",
          "text": [
            "Model: \"sequential\"\n",
            "_________________________________________________________________\n",
            "Layer (type)                 Output Shape              Param #   \n",
            "=================================================================\n",
            "dense (Dense)                (None, 128)               100480    \n",
            "_________________________________________________________________\n",
            "dropout (Dropout)            (None, 128)               0         \n",
            "_________________________________________________________________\n",
            "dense_1 (Dense)              (None, 10)                1290      \n",
            "=================================================================\n",
            "Total params: 101,770\n",
            "Trainable params: 101,770\n",
            "Non-trainable params: 0\n",
            "_________________________________________________________________\n",
            "Epoch 1/20\n",
            "60000/60000 [==============================] - 6s 106us/sample - loss: 0.5306 - sparse_categorical_accuracy: 0.8120\n",
            "Epoch 2/20\n",
            "60000/60000 [==============================] - 5s 84us/sample - loss: 0.4023 - sparse_categorical_accuracy: 0.8534\n",
            "Epoch 3/20\n",
            "60000/60000 [==============================] - 5s 84us/sample - loss: 0.3668 - sparse_categorical_accuracy: 0.8666\n",
            "Epoch 4/20\n",
            "60000/60000 [==============================] - 5s 83us/sample - loss: 0.3501 - sparse_categorical_accuracy: 0.8723\n",
            "Epoch 5/20\n",
            "60000/60000 [==============================] - 5s 85us/sample - loss: 0.3318 - sparse_categorical_accuracy: 0.8772\n",
            "Epoch 6/20\n",
            "60000/60000 [==============================] - 5s 84us/sample - loss: 0.3206 - sparse_categorical_accuracy: 0.8809\n",
            "Epoch 7/20\n",
            "60000/60000 [==============================] - 5s 83us/sample - loss: 0.3089 - sparse_categorical_accuracy: 0.8862\n",
            "Epoch 8/20\n",
            "60000/60000 [==============================] - 5s 85us/sample - loss: 0.3017 - sparse_categorical_accuracy: 0.8883\n",
            "Epoch 9/20\n",
            "60000/60000 [==============================] - 5s 84us/sample - loss: 0.2909 - sparse_categorical_accuracy: 0.8917\n",
            "Epoch 10/20\n",
            "60000/60000 [==============================] - 5s 86us/sample - loss: 0.2862 - sparse_categorical_accuracy: 0.8924\n",
            "Epoch 11/20\n",
            "60000/60000 [==============================] - 5s 88us/sample - loss: 0.2791 - sparse_categorical_accuracy: 0.8951\n",
            "Epoch 12/20\n",
            "60000/60000 [==============================] - 5s 84us/sample - loss: 0.2723 - sparse_categorical_accuracy: 0.8969\n",
            "Epoch 13/20\n",
            "60000/60000 [==============================] - 5s 84us/sample - loss: 0.2666 - sparse_categorical_accuracy: 0.8996\n",
            "Epoch 14/20\n",
            "60000/60000 [==============================] - 5s 83us/sample - loss: 0.2606 - sparse_categorical_accuracy: 0.9018\n",
            "Epoch 15/20\n",
            "60000/60000 [==============================] - 5s 85us/sample - loss: 0.2566 - sparse_categorical_accuracy: 0.9039\n",
            "Epoch 16/20\n",
            "60000/60000 [==============================] - 5s 85us/sample - loss: 0.2526 - sparse_categorical_accuracy: 0.9046\n",
            "Epoch 17/20\n",
            "60000/60000 [==============================] - 5s 83us/sample - loss: 0.2506 - sparse_categorical_accuracy: 0.9067\n",
            "Epoch 18/20\n",
            "60000/60000 [==============================] - 5s 83us/sample - loss: 0.2459 - sparse_categorical_accuracy: 0.9058\n",
            "Epoch 19/20\n",
            "60000/60000 [==============================] - 5s 84us/sample - loss: 0.2386 - sparse_categorical_accuracy: 0.9103\n",
            "Epoch 20/20\n",
            "60000/60000 [==============================] - 5s 84us/sample - loss: 0.2384 - sparse_categorical_accuracy: 0.9093\n"
          ],
          "name": "stdout"
        },
        {
          "output_type": "execute_result",
          "data": {
            "text/plain": [
              "<tensorflow.python.keras.callbacks.History at 0x7f2c9e9bc550>"
            ]
          },
          "metadata": {
            "tags": []
          },
          "execution_count": 13
        }
      ]
    },
    {
      "cell_type": "markdown",
      "metadata": {
        "id": "TOa0FcRFsAdV",
        "colab_type": "text"
      },
      "source": [
        "Test accuracy and loss"
      ]
    },
    {
      "cell_type": "code",
      "metadata": {
        "id": "RG01t3VCsUYB",
        "colab_type": "code",
        "outputId": "5a7e11ba-faf4-40b3-b07a-ed59fcb1d645",
        "colab": {
          "base_uri": "https://localhost:8080/",
          "height": 34
        }
      },
      "source": [
        "test_loss,test_acc = model.evaluate(X_test,Y_test)"
      ],
      "execution_count": 0,
      "outputs": [
        {
          "output_type": "stream",
          "text": [
            "10000/10000 [==============================] - 1s 53us/sample - loss: 0.3311 - sparse_categorical_accuracy: 0.8892\n"
          ],
          "name": "stdout"
        }
      ]
    },
    {
      "cell_type": "code",
      "metadata": {
        "id": "IConRSfSu1T9",
        "colab_type": "code",
        "outputId": "19dcaf47-f7cc-48a2-c68d-ad6d982e5599",
        "colab": {
          "base_uri": "https://localhost:8080/",
          "height": 34
        }
      },
      "source": [
        "print(\"Test accuracy {}\".format(test_acc))"
      ],
      "execution_count": 0,
      "outputs": [
        {
          "output_type": "stream",
          "text": [
            "Test accuracy 0.88919997215271\n"
          ],
          "name": "stdout"
        }
      ]
    },
    {
      "cell_type": "code",
      "metadata": {
        "id": "VCuAzITEvGMC",
        "colab_type": "code",
        "colab": {}
      },
      "source": [
        "#saving the model\n",
        "model_json = model.to_json()\n",
        "with open('fashion_mnist_model.json','w') as f:\n",
        "     f.write(model_json)\n",
        "model.save_weights('fashion_mnist_model.json.h5')     "
      ],
      "execution_count": 0,
      "outputs": []
    },
    {
      "cell_type": "markdown",
      "metadata": {
        "id": "o8NM7QPdvkm4",
        "colab_type": "text"
      },
      "source": [
        "# New Section"
      ]
    }
  ]
}